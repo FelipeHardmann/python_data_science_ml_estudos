{
  "nbformat": 4,
  "nbformat_minor": 0,
  "metadata": {
    "colab": {
      "provenance": []
    },
    "kernelspec": {
      "name": "python3",
      "display_name": "Python 3"
    },
    "language_info": {
      "name": "python"
    }
  },
  "cells": [
    {
      "cell_type": "code",
      "execution_count": null,
      "metadata": {
        "colab": {
          "base_uri": "https://localhost:8080/",
          "height": 407
        },
        "id": "K3EUNwg5PiOB",
        "outputId": "395cc226-f3e8-46ac-81ae-f072160d8cd9"
      },
      "outputs": [
        {
          "output_type": "stream",
          "name": "stdout",
          "text": [
            "Coefficients: \n",
            " [-1.16358797e-01  6.44549228e-02  1.65416147e-01  1.45101654e+00\n",
            " -1.77862563e+01  2.80392779e+00  4.61905315e-02 -1.13518865e+00\n",
            "  3.31725870e-01 -1.01196059e-02 -9.94812678e-01  9.18522056e-03\n",
            " -7.92395217e-01]\n",
            "Variance score: 0.709454060230325\n"
          ]
        },
        {
          "output_type": "display_data",
          "data": {
            "text/plain": [
              "<Figure size 432x288 with 1 Axes>"
            ],
            "image/png": "[encoded data removed]"
          },
          "metadata": {}
        }
      ],
      "source": [
        "# Import de pacotes\n",
        "%matplotlib inline\n",
        "import matplotlib.pyplot as plt\n",
        "import numpy as np\n",
        "import pandas as pd\n",
        "from sklearn import datasets, linear_model, metrics\n",
        "from sklearn.model_selection import train_test_split \n",
        "\n",
        "# Import do dataset (Boston housing dataset)\n",
        "boston = datasets.load_boston(return_X_y=False)\n",
        "\n",
        "# Definição dos dados de entrada e de saída\n",
        "X = boston.data \n",
        "y = boston.target\n",
        "\n",
        "# Separação dos dados (de entrada e saída) em treino e teste, adotando uma divisão 30% treino - 70% teste\n",
        "X_train, X_test, y_train, y_test = train_test_split(X, y, test_size=0.7, random_state=1)\n",
        "\n",
        "# Criação e treinamento do modelo de regressão linear\n",
        "reg = linear_model.LinearRegression() \n",
        "reg.fit(X_train, y_train) \n",
        "\n",
        "# Exibição em tela os coeficientes associados a cada uma das variáveis de entrada\n",
        "print('Coefficients: \\n', reg.coef_) \n",
        "print('Variance score: {}'.format(reg.score(X_test, y_test)))\n",
        "\n",
        "# Plot dos erros residuais associados às previsões feitas pelo modelo nos conjuntos de treino e teste\n",
        "plt.style.use('fivethirtyeight') \n",
        "plt.scatter(reg.predict(X_train), reg.predict(X_train) - y_train, color = \"green\", s = 10, label = 'Train data')\n",
        "plt.scatter(reg.predict(X_test), reg.predict(X_test) - y_test, color = \"blue\", s = 10, label = 'Test data')\n",
        "plt.hlines(y = 0, xmin = 0, xmax = 50, linewidth = 2) \n",
        "plt.legend(loc = 'upper right') \n",
        "plt.title(\"Residual errors\") \n",
        "plt.show()\n"
      ]
    },
    {
      "cell_type": "code",
      "source": [
        "# Importando as bibliotecas necessárias\n",
        "from sklearn.datasets import load_iris\n",
        "from sklearn.svm import SVC\n",
        "from sklearn.model_selection import train_test_split\n",
        "from sklearn.metrics import accuracy_score\n",
        "\n",
        "# Carregando o conjunto de dados \"Iris\"\n",
        "iris = load_iris()\n",
        "\n",
        "# Separando as variáveis preditoras e a variável target\n",
        "X = iris.data\n",
        "y = iris.target\n",
        "\n",
        "# Dividindo o conjunto de dados em treinamento e teste\n",
        "X_train, X_test, y_train, y_test = train_test_split(X, y, test_size=0.3)\n",
        "\n",
        "# Instanciando o modelo SVM\n",
        "modelo = SVC(kernel='linear')\n",
        "\n",
        "# Treinando o modelo com o conjunto de treinamento\n",
        "modelo.fit(X_train, y_train)\n",
        "\n",
        "# Realizando as predições com o conjunto de teste\n",
        "y_pred = modelo.predict(X_test)\n",
        "\n",
        "# Avaliando a acurácia do modelo\n",
        "acuracia = accuracy_score(y_test, y_pred)\n",
        "\n",
        "# Imprimindo a acurácia\n",
        "print(\"Acurácia do modelo: \", acuracia)"
      ],
      "metadata": {
        "colab": {
          "base_uri": "https://localhost:8080/"
        },
        "id": "1WWPYx2RPpZt",
        "outputId": "b19f8d50-576f-427b-f656-e2b9ebfe0cea"
      },
      "execution_count": null,
      "outputs": [
        {
          "output_type": "stream",
          "name": "stdout",
          "text": [
            "Acurácia do modelo:  0.9333333333333333\n"
          ]
        }
      ]
    },
    {
      "cell_type": "code",
      "source": [
        "from sklearn.datasets import load_breast_cancer\n",
        "from sklearn.model_selection import train_test_split\n",
        "from sklearn.linear_model import LogisticRegression\n",
        "from sklearn.metrics import accuracy_score\n",
        "\n",
        "# Carregar o dataset\n",
        "data = load_breast_cancer()\n",
        "\n",
        "# Dividir o dataset em um conjunto de treino e teste\n",
        "X_train, X_test, y_train, y_test = train_test_split(data.data, data.target, test_size=0.3, random_state=42)\n",
        "\n",
        "# Treinar o modelo de regressão logística\n",
        "model = LogisticRegression()\n",
        "model.fit(X_train, y_train)\n",
        "\n",
        "# Realizar previsões no conjunto de teste\n",
        "y_pred = model.predict(X_test)\n",
        "\n",
        "# Avaliar a acurácia do modelo\n",
        "accuracy = accuracy_score(y_test, y_pred)\n",
        "\n",
        "# Imprimir a acurácia\n",
        "print(\"A acurácia do modelo de regressão logística é: \", accuracy)"
      ],
      "metadata": {
        "colab": {
          "base_uri": "https://localhost:8080/"
        },
        "id": "sLrzA-aXa1-n",
        "outputId": "669cd816-a7fd-4850-d7ac-47257b7872dd"
      },
      "execution_count": null,
      "outputs": [
        {
          "output_type": "stream",
          "name": "stdout",
          "text": [
            "A acurácia do modelo de regressão logística é:  0.9707602339181286\n"
          ]
        },
        {
          "output_type": "stream",
          "name": "stderr",
          "text": [
            "/usr/local/lib/python3.8/dist-packages/sklearn/linear_model/_logistic.py:814: ConvergenceWarning: lbfgs failed to converge (status=1):\n",
            "STOP: TOTAL NO. of ITERATIONS REACHED LIMIT.\n",
            "\n",
            "Increase the number of iterations (max_iter) or scale the data as shown in:\n",
            "    https://scikit-learn.org/stable/modules/preprocessing.html\n",
            "Please also refer to the documentation for alternative solver options:\n",
            "    https://scikit-learn.org/stable/modules/linear_model.html#logistic-regression\n",
            "  n_iter_i = _check_optimize_result(\n"
          ]
        }
      ]
    },
    {
      "cell_type": "code",
      "source": [],
      "metadata": {
        "id": "gkbsPIjFcQ7E"
      },
      "execution_count": null,
      "outputs": []
    }
  ]
}